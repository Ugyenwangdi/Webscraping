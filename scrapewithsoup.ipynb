{
 "cells": [
  {
   "cell_type": "code",
   "execution_count": 4,
   "id": "090988e8",
   "metadata": {},
   "outputs": [],
   "source": [
    "htmlstring = \"<!DOCTYPE html><html><body><p>Example paragraph tag</p><span>span tag</span></body></html>\""
   ]
  },
  {
   "cell_type": "code",
   "execution_count": null,
   "id": "cbca9733",
   "metadata": {},
   "outputs": [],
   "source": [
    "soup.p.contents[0]"
   ]
  },
  {
   "cell_type": "code",
   "execution_count": null,
   "id": "9031e79f",
   "metadata": {},
   "outputs": [],
   "source": [
    "soup.get_text()"
   ]
  },
  {
   "cell_type": "code",
   "execution_count": null,
   "id": "013ddf95",
   "metadata": {
    "collapsed": true
   },
   "outputs": [],
   "source": [
    "soup.p.get_text()"
   ]
  },
  {
   "cell_type": "code",
   "execution_count": null,
   "id": "4e80651c",
   "metadata": {
    "collapsed": true
   },
   "outputs": [],
   "source": [
    "soup.p.string"
   ]
  },
  {
   "cell_type": "code",
   "execution_count": null,
   "id": "3318a471",
   "metadata": {
    "collapsed": true
   },
   "outputs": [],
   "source": [
    "soup.find()"
   ]
  }
 ],
 "metadata": {
  "kernelspec": {
   "display_name": "Python 3 (ipykernel)",
   "language": "python",
   "name": "python3"
  },
  "language_info": {
   "codemirror_mode": {
    "name": "ipython",
    "version": 3
   },
   "file_extension": ".py",
   "mimetype": "text/x-python",
   "name": "python",
   "nbconvert_exporter": "python",
   "pygments_lexer": "ipython3",
   "version": "3.9.4"
  }
 },
 "nbformat": 4,
 "nbformat_minor": 5
}
